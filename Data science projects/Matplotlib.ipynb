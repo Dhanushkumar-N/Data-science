{
 "cells": [
  {
   "cell_type": "code",
   "execution_count": 1,
   "id": "d1209fb7",
   "metadata": {},
   "outputs": [],
   "source": [
    "import matplotlib.pyplot as plt\n",
    "import numpy as np"
   ]
  },
  {
   "cell_type": "code",
   "execution_count": null,
   "id": "2ac22233",
   "metadata": {},
   "outputs": [],
   "source": [
    "a=np.array([0,10])\n",
    "b=np.array([0,45])\n",
    "plt.plot(a,b)\n",
    "plt.show()"
   ]
  },
  {
   "cell_type": "code",
   "execution_count": null,
   "id": "99230403",
   "metadata": {},
   "outputs": [],
   "source": [
    "a=np.array([0,2,6,23,8,21,7,10])\n",
    "b=np.array([0,2,7,2,82,65,3,45])\n",
    "# plt.plot(a,b,'o')\n",
    "# plt.plot(a,b,'x-r')\n",
    "# plt.plot(a,b,'v-.r')   \n",
    "plt.plot(a,b,'x-.r')    # r means red color  x-. is symbol\n",
    "plt.plot(a,b,'o')\n",
    "plt.show()\n"
   ]
  },
  {
   "cell_type": "code",
   "execution_count": null,
   "id": "3fa74a27",
   "metadata": {},
   "outputs": [],
   "source": [
    "q=np.array([2,5,3,8,3,9])\n",
    "w=np.array([3,6,7,6,4,7])\n",
    "\n",
    "plt.plot(q,w,'v:g') #v.........V......v with green color\n",
    "\n",
    "xf={\"family\":'Arial','color':'red','size':19}\n",
    "yf={\"family\":'Arial','color':'green','size':24}\n",
    "# tf={\"family\":'serif','color':'red','size':23}\n",
    "\n",
    "plt.xlabel(\"temp\",fontdict= xf)\n",
    "plt.ylabel(\"humid\",fontdict=yf)\n",
    "\n",
    "plt.title(\"T vs H by hello\",fontdict=yf)\n",
    "plt.show()\n"
   ]
  },
  {
   "cell_type": "code",
   "execution_count": null,
   "metadata": {},
   "outputs": [],
   "source": [
    "dhanushx=np.array([100,99.9,95.3,90.0,89.1])\n",
    "dhanushy=np.array([100,99.9,95.3,90.0,89.1])\n",
    "\n",
    "x_axisstyle={\"family\":'serif','color':'yellow','size':30}\n",
    "plt.plot(dhanushx,dhanushy,'x-.g')\n",
    "plt.xlabel('Days',fontdict=x_axisstyle)\n",
    "plt.ylabel('Attendance Percentage',fontdict=xf)\n",
    "plt.title('Attedance',fontdict=x_axisstyle)\n",
    "\n",
    "plt.grid(color=\"orange\",linestyle=\"--\",linewidth=1.5)  # grid is used to get a row and column lines\n",
    "plt.show()"
   ]
  },
  {
   "cell_type": "code",
   "execution_count": null,
   "id": "e42061cc",
   "metadata": {},
   "outputs": [],
   "source": [
    "f=np.array([2,3,4,5,6,7,8,9])\n",
    "s=np.array([0,9,8,7,6,5,4,3])\n",
    "s1={\"family\":'Serif',\"color\":'gray',\"size\":'20'}\n",
    "s2={\"family\":'serif',\"color\":'violet',\"size\":'23'}\n",
    "plt.plot(f,s)\n",
    "plt.plot(f,s,'o')\n",
    "plt.xlabel(\"Boys\",fontdict=s1)\n",
    "plt.ylabel(\"Girls\",fontdict=s1)\n",
    "plt.title(\"Welcome to all\",fontdict=s2)\n",
    "plt.grid(color =\"red\")\n",
    "plt.show()\n"
   ]
  },
  {
   "cell_type": "markdown",
   "id": "f39d2acc",
   "metadata": {},
   "source": [
    "GRID TOPIC IS USED TO IDENTIFY WHICH POINT EASLY UNDERSTOOD THE DIAGRAM  have many rows and columns"
   ]
  },
  {
   "cell_type": "code",
   "execution_count": null,
   "id": "169eb949",
   "metadata": {},
   "outputs": [],
   "source": [
    "#graph 1\n",
    "s1=np.array([3,7,2,7,2])\n",
    "s2=np.array([2,6,4,3,8])\n",
    "\n",
    "#graph 2\n",
    "d1=np.array([3,7,3,0,8])\n",
    "d2=np.array([1,5,2,7,4])"
   ]
  },
  {
   "cell_type": "markdown",
   "id": "6c50bf73",
   "metadata": {},
   "source": [
    "2 plots, 1X2,2X1"
   ]
  },
  {
   "cell_type": "code",
   "execution_count": null,
   "id": "52860b2f",
   "metadata": {},
   "outputs": [],
   "source": [
    "plt.subplot(1,2,1)\n",
    "style={\"family\":'serif',\"color\":'yellow',\"size\":20}\n",
    "plt.xlabel(\"Money\",fontdict=style)\n",
    "plt.ylabel(\"work\",fontdict=style)\n",
    "plt.plot(s1,s2,'x--')\n",
    "plt.grid(color=\"violet\",linestyle=\"--\",linewidth=1.0)\n",
    "\n",
    "plt.subplot(1,2,2)\n",
    "plt.plot(d1,d2)"
   ]
  },
  {
   "cell_type": "code",
   "execution_count": null,
   "id": "3c33d765",
   "metadata": {},
   "outputs": [],
   "source": []
  }
 ],
 "metadata": {
  "kernelspec": {
   "display_name": "Python 3 (ipykernel)",
   "language": "python",
   "name": "python3"
  },
  "language_info": {
   "codemirror_mode": {
    "name": "ipython",
    "version": 3
   },
   "file_extension": ".py",
   "mimetype": "text/x-python",
   "name": "python",
   "nbconvert_exporter": "python",
   "pygments_lexer": "ipython3",
   "version": "3.11.4"
  }
 },
 "nbformat": 4,
 "nbformat_minor": 5
}
